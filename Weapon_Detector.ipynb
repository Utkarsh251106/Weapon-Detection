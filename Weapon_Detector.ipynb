{
  "cells": [
    {
      "cell_type": "code",
      "execution_count": 3,
      "metadata": {
        "id": "nPqYjx2XbQlY"
      },
      "outputs": [],
      "source": [
        "import os\n",
        "import cv2\n",
        "from roboflow import Roboflow\n",
        "from google.colab.patches import cv2_imshow"
      ]
    },
    {
      "cell_type": "code",
      "execution_count": 4,
      "metadata": {
        "colab": {
          "base_uri": "https://localhost:8080/"
        },
        "id": "IOxSBRPfbQ3b",
        "outputId": "e770130a-38ac-46c1-850e-a911ee793359"
      },
      "outputs": [
        {
          "output_type": "stream",
          "name": "stdout",
          "text": [
            "loading Roboflow workspace...\n",
            "loading Roboflow project...\n"
          ]
        }
      ],
      "source": [
        "rf = Roboflow(api_key=\" \")\n",
        "project = rf.workspace(\"utkarsh-srivastava-3n6fv\").project(\"projectcv-kc4ww\")\n",
        "model_yolo = project.version(1).model"
      ]
    },
    {
      "cell_type": "code",
      "source": [
        "# Load the video\n",
        "video_path = \"Guns_video.mp4\"\n",
        "cap = cv2.VideoCapture(video_path)"
      ],
      "metadata": {
        "id": "lc8PVVM5ofiI"
      },
      "execution_count": 5,
      "outputs": []
    },
    {
      "cell_type": "code",
      "source": [
        "# Define the codec and create a VideoWriter object to save the video\n",
        "fourcc = cv2.VideoWriter_fourcc(*'mp4v')\n",
        "out = cv2.VideoWriter('output.mp4', fourcc, 20.0, (int(cap.get(3)), int(cap.get(4))))\n",
        "\n",
        "while cap.isOpened():\n",
        "    ret, frame = cap.read()\n",
        "    if not ret:\n",
        "        break\n",
        "\n",
        "    # Convert frame to image for prediction\n",
        "    frame_rgb = cv2.cvtColor(frame, cv2.COLOR_BGR2RGB)\n",
        "\n",
        "    # Make prediction\n",
        "    predictions = model_yolo.predict(frame_rgb)\n",
        "\n",
        "    # Draw bounding boxes on the frame\n",
        "    for prediction in predictions:\n",
        "        x, y, w, h = prediction['x'], prediction['y'], prediction['width'], prediction['height']\n",
        "        label = prediction['class']\n",
        "        confidence = prediction['confidence']\n",
        "\n",
        "        # Calculate bounding box coordinates\n",
        "        start_point = (int(x - w / 2), int(y - h / 2))\n",
        "        end_point = (int(x + w / 2), int(y + h / 2))\n",
        "\n",
        "        # Draw rectangle\n",
        "        cv2.rectangle(frame, start_point, end_point, (0, 255, 0), 2)\n",
        "        cv2.putText(frame, f\"{label} ({confidence:.2f})\", (start_point[0], start_point[1] - 10), cv2.FONT_HERSHEY_SIMPLEX, 0.5, (0, 255, 0), 2)\n",
        "\n",
        "    # Output in the mp4 format\n",
        "    out.write(frame)\n",
        "\n",
        "    # Break the loop if 'q' is pressed (optional)\n",
        "    if cv2.waitKey(1) & 0xFF == ord('q'):\n",
        "        break\n",
        "\n",
        "# Release the capture and writer objects\n",
        "cap.release()\n",
        "out.release()"
      ],
      "metadata": {
        "id": "YOFn8RSDoBRS"
      },
      "execution_count": 8,
      "outputs": []
    },
    {
      "cell_type": "code",
      "source": [
        "# Download the video to your local machine (for colab only)\n",
        "from google.colab import files\n",
        "files.download('output.mp4')"
      ],
      "metadata": {
        "id": "RH7WO30wsWKZ"
      },
      "execution_count": null,
      "outputs": []
    }
  ],
  "metadata": {
    "accelerator": "GPU",
    "colab": {
      "gpuType": "T4",
      "provenance": []
    },
    "kernelspec": {
      "display_name": "Python 3",
      "name": "python3"
    },
    "language_info": {
      "name": "python"
    }
  },
  "nbformat": 4,
  "nbformat_minor": 0
}